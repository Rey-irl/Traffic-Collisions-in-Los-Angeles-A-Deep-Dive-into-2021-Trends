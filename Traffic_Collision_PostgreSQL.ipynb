{
 "cells": [
  {
   "cell_type": "markdown",
   "metadata": {},
   "source": [
    "# Analysing Crime, Arrests and Traffic Collisions in Los Angeles during 2021"
   ]
  },
  {
   "cell_type": "markdown",
   "metadata": {},
   "source": [
    "### Insert data into PostgreSQL"
   ]
  },
  {
   "cell_type": "code",
   "execution_count": 67,
   "metadata": {},
   "outputs": [
    {
     "data": {
      "text/plain": [
       "512"
      ]
     },
     "execution_count": 67,
     "metadata": {},
     "output_type": "execute_result"
    }
   ],
   "source": [
    "from sqlalchemy import create_engine\n",
    "\n",
    "#establishing the connection\n",
    "engine = create_engine('postgresql://')\n",
    "\n",
    "#Save the dataframe as a table called Traffic_Collision\n",
    "\n",
    "traffic_data.to_sql('Traffic_Collision', engine)\n",
    "\n"
   ]
  },
  {
   "cell_type": "markdown",
   "metadata": {},
   "source": [
    "### Get Data from PostgreSQL"
   ]
  },
  {
   "cell_type": "code",
   "execution_count": 69,
   "metadata": {},
   "outputs": [
    {
     "name": "stdout",
     "output_type": "stream",
     "text": [
      "True\n",
      "True\n",
      "end\n"
     ]
    }
   ],
   "source": [
    "import sqlalchemy\n",
    "import pandas as pd\n",
    "\n",
    "engine= sqlalchemy.create_engine('postgresql://')\n",
    "print(bool(engine))\n",
    "\n",
    "try:\n",
    "    with engine.connect() as conn:\n",
    "        print(bool(conn))\n",
    "        \n",
    "        df_sql=pd.read_sql_table(\"Traffic_Collision\", con=conn)\n",
    "        \n",
    "        print(\"end\")\n",
    "except Exception as e:\n",
    "    conn.close()\n",
    "    print(e)"
   ]
  },
  {
   "cell_type": "code",
   "execution_count": 70,
   "metadata": {},
   "outputs": [
    {
     "data": {
      "text/html": [
       "<div>\n",
       "<style scoped>\n",
       "    .dataframe tbody tr th:only-of-type {\n",
       "        vertical-align: middle;\n",
       "    }\n",
       "\n",
       "    .dataframe tbody tr th {\n",
       "        vertical-align: top;\n",
       "    }\n",
       "\n",
       "    .dataframe thead th {\n",
       "        text-align: right;\n",
       "    }\n",
       "</style>\n",
       "<table border=\"1\" class=\"dataframe\">\n",
       "  <thead>\n",
       "    <tr style=\"text-align: right;\">\n",
       "      <th></th>\n",
       "      <th>DR Number</th>\n",
       "      <th>Date Reported</th>\n",
       "      <th>Date Occurred</th>\n",
       "      <th>Time Ocurred</th>\n",
       "      <th>Area ID</th>\n",
       "      <th>Area Name</th>\n",
       "      <th>Reporting District</th>\n",
       "      <th>MO Codes</th>\n",
       "      <th>Victim Age</th>\n",
       "      <th>Victim Sex</th>\n",
       "      <th>Victim Descent</th>\n",
       "      <th>Premise Code</th>\n",
       "      <th>Premise Description</th>\n",
       "      <th>Census Tracts</th>\n",
       "      <th>Council Districts</th>\n",
       "    </tr>\n",
       "  </thead>\n",
       "  <tbody>\n",
       "    <tr>\n",
       "      <th>0</th>\n",
       "      <td>211204007</td>\n",
       "      <td>2021-01-01</td>\n",
       "      <td>2020-12-17</td>\n",
       "      <td>1110</td>\n",
       "      <td>12</td>\n",
       "      <td>77th Street</td>\n",
       "      <td>1259</td>\n",
       "      <td>4025 3028 3030 3036 3004 3101</td>\n",
       "      <td>66.0</td>\n",
       "      <td>M</td>\n",
       "      <td>H</td>\n",
       "      <td>101</td>\n",
       "      <td>STREET</td>\n",
       "      <td>789.0</td>\n",
       "      <td>13</td>\n",
       "    </tr>\n",
       "    <tr>\n",
       "      <th>1</th>\n",
       "      <td>210904018</td>\n",
       "      <td>2021-01-01</td>\n",
       "      <td>2020-12-28</td>\n",
       "      <td>2335</td>\n",
       "      <td>09</td>\n",
       "      <td>Van Nuys</td>\n",
       "      <td>0941</td>\n",
       "      <td>3004 3037 3029 3026 3101 4026</td>\n",
       "      <td>23.0</td>\n",
       "      <td>F</td>\n",
       "      <td>O</td>\n",
       "      <td>101</td>\n",
       "      <td>STREET</td>\n",
       "      <td>241.0</td>\n",
       "      <td>3</td>\n",
       "    </tr>\n",
       "    <tr>\n",
       "      <th>2</th>\n",
       "      <td>210904017</td>\n",
       "      <td>2021-01-01</td>\n",
       "      <td>2020-12-30</td>\n",
       "      <td>1400</td>\n",
       "      <td>09</td>\n",
       "      <td>Van Nuys</td>\n",
       "      <td>0957</td>\n",
       "      <td>3036 3004 3030 3028 3101 4026</td>\n",
       "      <td>31.0</td>\n",
       "      <td>F</td>\n",
       "      <td>O</td>\n",
       "      <td>101</td>\n",
       "      <td>STREET</td>\n",
       "      <td>242.0</td>\n",
       "      <td>7</td>\n",
       "    </tr>\n",
       "    <tr>\n",
       "      <th>3</th>\n",
       "      <td>211104023</td>\n",
       "      <td>2021-01-01</td>\n",
       "      <td>2020-12-31</td>\n",
       "      <td>1615</td>\n",
       "      <td>11</td>\n",
       "      <td>Northeast</td>\n",
       "      <td>1102</td>\n",
       "      <td>3102 3401 3701 4011 3004 3030 3032 0605</td>\n",
       "      <td>23.0</td>\n",
       "      <td>F</td>\n",
       "      <td>H</td>\n",
       "      <td>101</td>\n",
       "      <td>STREET</td>\n",
       "      <td>395.0</td>\n",
       "      <td>8</td>\n",
       "    </tr>\n",
       "    <tr>\n",
       "      <th>4</th>\n",
       "      <td>210404024</td>\n",
       "      <td>2021-01-01</td>\n",
       "      <td>2020-12-31</td>\n",
       "      <td>2340</td>\n",
       "      <td>04</td>\n",
       "      <td>Hollenbeck</td>\n",
       "      <td>0423</td>\n",
       "      <td>0605 3101 3401 3701 4004 3004 3026 3029 3036 3801</td>\n",
       "      <td>54.0</td>\n",
       "      <td>F</td>\n",
       "      <td>H</td>\n",
       "      <td>101</td>\n",
       "      <td>STREET</td>\n",
       "      <td>494.0</td>\n",
       "      <td>11</td>\n",
       "    </tr>\n",
       "  </tbody>\n",
       "</table>\n",
       "</div>"
      ],
      "text/plain": [
       "   DR Number Date Reported Date Occurred  Time Ocurred Area ID    Area Name  \\\n",
       "0  211204007    2021-01-01    2020-12-17          1110      12  77th Street   \n",
       "1  210904018    2021-01-01    2020-12-28          2335      09     Van Nuys   \n",
       "2  210904017    2021-01-01    2020-12-30          1400      09     Van Nuys   \n",
       "3  211104023    2021-01-01    2020-12-31          1615      11    Northeast   \n",
       "4  210404024    2021-01-01    2020-12-31          2340      04   Hollenbeck   \n",
       "\n",
       "  Reporting District                                           MO Codes  \\\n",
       "0               1259                      4025 3028 3030 3036 3004 3101   \n",
       "1               0941                      3004 3037 3029 3026 3101 4026   \n",
       "2               0957                      3036 3004 3030 3028 3101 4026   \n",
       "3               1102            3102 3401 3701 4011 3004 3030 3032 0605   \n",
       "4               0423  0605 3101 3401 3701 4004 3004 3026 3029 3036 3801   \n",
       "\n",
       "   Victim Age Victim Sex Victim Descent Premise Code Premise Description  \\\n",
       "0        66.0          M              H          101              STREET   \n",
       "1        23.0          F              O          101              STREET   \n",
       "2        31.0          F              O          101              STREET   \n",
       "3        23.0          F              H          101              STREET   \n",
       "4        54.0          F              H          101              STREET   \n",
       "\n",
       "   Census Tracts Council Districts  \n",
       "0          789.0                13  \n",
       "1          241.0                 3  \n",
       "2          242.0                 7  \n",
       "3          395.0                 8  \n",
       "4          494.0                11  "
      ]
     },
     "execution_count": 70,
     "metadata": {},
     "output_type": "execute_result"
    }
   ],
   "source": [
    "df_sql.head()"
   ]
  },
  {
   "cell_type": "code",
   "execution_count": 71,
   "metadata": {},
   "outputs": [
    {
     "data": {
      "text/plain": [
       "(13512, 14)"
      ]
     },
     "execution_count": 71,
     "metadata": {},
     "output_type": "execute_result"
    }
   ],
   "source": [
    "# Define index to column 'DR Number'\n",
    "df_sql = df_sql.set_index('DR Number')\n",
    "df_sql.shape"
   ]
  }
 ],
 "metadata": {
  "kernelspec": {
   "display_name": "Python 3 (ipykernel)",
   "language": "python",
   "name": "python3"
  },
  "language_info": {
   "codemirror_mode": {
    "name": "ipython",
    "version": 3
   },
   "file_extension": ".py",
   "mimetype": "text/x-python",
   "name": "python",
   "nbconvert_exporter": "python",
   "pygments_lexer": "ipython3",
   "version": "3.11.7"
  }
 },
 "nbformat": 4,
 "nbformat_minor": 4
}
